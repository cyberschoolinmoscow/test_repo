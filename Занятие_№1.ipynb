{
  "nbformat": 4,
  "nbformat_minor": 0,
  "metadata": {
    "colab": {
      "provenance": [],
      "include_colab_link": true
    },
    "kernelspec": {
      "name": "python3",
      "display_name": "Python 3"
    },
    "language_info": {
      "name": "python"
    }
  },
  "cells": [
    {
      "cell_type": "markdown",
      "metadata": {
        "id": "view-in-github",
        "colab_type": "text"
      },
      "source": [
        "<a href=\"https://colab.research.google.com/github/cyberschoolinmoscow/test_repo/blob/main/%D0%97%D0%B0%D0%BD%D1%8F%D1%82%D0%B8%D0%B5_%E2%84%961.ipynb\" target=\"_parent\"><img src=\"https://colab.research.google.com/assets/colab-badge.svg\" alt=\"Open In Colab\"/></a>"
      ]
    },
    {
      "cell_type": "markdown",
      "source": [
        "![Без названия.png](data:image/png;base64,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)"
      ],
      "metadata": {
        "id": "Catbrr_hwbMl"
      }
    },
    {
      "cell_type": "markdown",
      "source": [],
      "metadata": {
        "id": "AK7g9KGAxDeL"
      }
    },
    {
      "cell_type": "markdown",
      "metadata": {
        "id": "W3AuG5bGomY1"
      },
      "source": [
        "<h3><strong><font color=\"#809BFF\">Задача №1</font></strong></h3>\n",
        "\n",
        "Ниже расположен код на языке Python, который отвечает за вывод информации на экран. Перейди в эту ячейку и нажми `Command/Ctrl` + `Enter` на клавиатуре или кликни на кнопку Play слева от строчки кода (самый первый вызов — не моментальный и требует 3-4 секунды, это нормально)."
      ]
    },
    {
      "cell_type": "code",
      "metadata": {
        "id": "jJmD3GpYvpO1"
      },
      "source": [
        "# выполни код в ячейке\n",
        "print('Отлично! Не так уж и сложно.')"
      ],
      "execution_count": null,
      "outputs": []
    },
    {
      "cell_type": "markdown",
      "metadata": {
        "id": "CVxl0W3SrdyI"
      },
      "source": [
        "<h1><strong><font color=\"#FF732B\">Знакомимся с первыми данными</font></strong></h1>"
      ]
    },
    {
      "cell_type": "markdown",
      "metadata": {
        "id": "y3c48KCq8yQV"
      },
      "source": [
        "<p><img src=\"https://u.foxford.ngcdn.ru/uploads/inner_file/file/92609/3art.png\"></p>"
      ]
    },
    {
      "cell_type": "markdown",
      "metadata": {
        "id": "I-sGbafF2Rr2"
      },
      "source": [
        "| Стоимость, млн $ | Название | Художник | Год создания | Аукционный дом |\n",
        "--- | --- | --- | --- | ---\n",
        "| 193.5 | Алжирские женщины («Версия O») | Пабло Пикассо 🇪🇸 | 1955 | Christie's |\n",
        "| 170.1 | Сон | Пабло Пикассо 🇪🇸 | 1932 | Другой |\n",
        "| 161.4 | Портрет доктора Гаше | Винсент Ван Гог 🇳🇱 | 1890 | Christie's |\n",
        "| 141 | Мальчик с трубкой | Пабло Пикассо 🇪🇸 | 1905 | Sotheby's |\n",
        "| 124.8 | Обнажённая, зелёные листья и бюст | Пабло Пикассо 🇪🇸 | 1932 | Christie's |\n",
        "| 121.3 | Ирисы | Винсент Ван Гог 🇳🇱 | 1889 | Sotheby's |\n",
        "| 120.8 | Дора Маар с кошкой | Пабло Пикассо 🇪🇸 | 1941 | Sotheby's |\n",
        "| 117.1 | Молодая девушка с цветочной корзиной | Пабло Пикассо 🇪🇸 | 1905 | Christie's |\n",
        "| 115.7 | Авария серебряной машины (Двойная катастрофа) | Энди Уорхол 🇺🇸 | 1963 | Sotheby's |\n",
        "| 112.2 | Автопортрет без бороды | Винсент Ван Гог 🇳🇱 | 1889 | Christie's |\n",
        "| 101.7 | Свадьба Пьеретты | Пабло Пикассо 🇪🇸 | 1905 | Другой |\n",
        "| 98.7 | Я, Пикассо | Пабло Пикассо 🇪🇸 | 1901 | Sotheby's |\n",
        "| 89.3 | Подсолнухи | Винсент Ван Гог 🇳🇱 | 1889 | Christie's |\n",
        "| 88.5 | Тройной Элвис | Энди Уорхол 🇺🇸 | 1963 | Christie's |\n",
        "| 88.4 | Авария зелёной машины | Энди Уорхол 🇺🇸 | 1963 | Christie's |\n",
        "| 84.8 | Огороженное поле с пахарем | Винсент Ван Гог 🇳🇱 | 1889 | Christie's |\n",
        "| 83.9 | Проворный кролик | Пабло Пикассо 🇪🇸 | 1904 | Sotheby's |\n",
        "| 83.3 | Акробат и молодой Арлекин | Пабло Пикассо 🇪🇸 | 1905 | Christie's |\n",
        "| 81.7 | Женщина со скрещёнными руками | Пабло Пикассо 🇪🇸 | 1902 | Christie's |\n",
        "| 76 | Женщина, сидящая в саду | Пабло Пикассо 🇪🇸 | 1938 | Sotheby's |\n",
        "| 75.7 | Молодая крестьянка в соломенной шляпке, сидящая в пшенице | Винсент Ван Гог 🇳🇱 | 1890 | Другой |\n",
        "| 75.2 | Четыре Марлона | Энди Уорхол 🇺🇸 | 1966 | Christie's |\n",
        "| 74.3 | Мужчины в ее жизни | Энди Уорхол 🇺🇸 | 1962 | Другой |\n",
        "| 72.8 | Певица кабаре | Пабло Пикассо 🇪🇸 | 1901 | Sotheby's |\n",
        "| 72.7 | Бюст женщины (Дора Маар) | Пабло Пикассо 🇪🇸 | 1938 | Christie's |\n",
        "| 71.5 | Аллея Алискана | Винсент Ван Гог 🇳🇱 | 1888 | Sotheby's |\n",
        "| 70.5 | Женщина в берете и клетчатом платье (Мария Тереза Вальтер) | Пабло Пикассо 🇪🇸 | 1937 | Sotheby's |\n",
        "| | | | | |\n",
        "| | | | | *Таблица 1.0* |"
      ]
    },
    {
      "cell_type": "markdown",
      "metadata": {
        "id": "oUZtX5NpuQmA"
      },
      "source": [
        "<p><img src=\"https://u.foxford.ngcdn.ru/uploads/inner_file/file/92612/4report.png\"></p>"
      ]
    },
    {
      "cell_type": "markdown",
      "metadata": {
        "id": "bXzVU6r431of"
      },
      "source": [
        "<h1><strong><font color=\"#FF732B\">Складываем, вычитаем, умножаем и делим</font></strong></h1>"
      ]
    },
    {
      "cell_type": "markdown",
      "metadata": {
        "id": "8ZXvGh8XUmP_"
      },
      "source": [
        "<p><img src=\"https://u.foxford.ngcdn.ru/uploads/inner_file/file/92616/5oper.png\"></p>"
      ]
    },
    {
      "cell_type": "markdown",
      "metadata": {
        "id": "H4W5Q_knGEzx"
      },
      "source": [
        "<h3><strong><font color=\"#809BFF\">Задача №2</font></strong></h3>\n",
        "\n",
        "Вычисли разницу в датах создания картин «Алжирские женщины» и «Обнажённая, зелёные листья и бюст» Пабло Пикассо. Подставь значения и выполни код."
      ]
    },
    {
      "cell_type": "code",
      "metadata": {
        "id": "a9c8e2E5GLlk"
      },
      "source": [
        "# подставь значения вместо многоточий\n",
        "print(... - ...)"
      ],
      "execution_count": null,
      "outputs": []
    },
    {
      "cell_type": "markdown",
      "metadata": {
        "id": "8y5gdA1vGTez"
      },
      "source": [
        "<h3><strong><font color=\"#809BFF\">Задача №3</font></strong></h3>\n",
        "\n",
        "Вычисли общую стоимость картин «Авария серебряной машины (Двойная катастрофа)», «Тройной Элвис» и «Мужчины в ее жизни» Энди Уорхола. Напиши выражение и выполни код."
      ]
    },
    {
      "cell_type": "code",
      "metadata": {
        "id": "XPFYYyG_GaXc"
      },
      "source": [
        "# напиши выражение\n",
        "print(...)"
      ],
      "execution_count": null,
      "outputs": []
    },
    {
      "cell_type": "markdown",
      "metadata": {
        "id": "hW5qsYHXV2x0"
      },
      "source": [
        "<h3><strong><font color=\"#809BFF\">Задача №4</font></strong></h3>\n",
        "\n",
        "Вычисли, насколько 3 самые дорогие картины Пабло Пикассо дороже 3-х самых дорогих картин Винсента Ван Гога. Подставь значения и выполни код."
      ]
    },
    {
      "cell_type": "code",
      "metadata": {
        "id": "0Ag9-mxFV8Wu"
      },
      "source": [
        "# напиши выражение\n",
        "\n",
        "print(...)"
      ],
      "execution_count": null,
      "outputs": []
    },
    {
      "cell_type": "markdown",
      "metadata": {
        "id": "HVPBI6BvHARH"
      },
      "source": [
        "<h3><strong><font color=\"#809BFF\">Задача №5</font></strong></h3>\n",
        "\n",
        "Вычисли, насколько 2 самые дорогие картины, проданные аукционным домом Christie's дороже 2-х самых дорогих картин, проданных Sotheby's. Напиши выражение и выполни код."
      ]
    },
    {
      "cell_type": "code",
      "metadata": {
        "id": "BMbZ5mv6HGIB"
      },
      "source": [
        "# напиши выражение\n",
        "print(...)"
      ],
      "execution_count": null,
      "outputs": []
    },
    {
      "cell_type": "markdown",
      "metadata": {
        "id": "H3wT0wLZ_s1F"
      },
      "source": [
        "<h3><strong><font color=\"#809BFF\">Задача №6</font></strong></h3>\n",
        "\n",
        "Вычисли, насколько доля картин Винсента Ван Гога и Энди Уорхола, проданных аукционными домами Christie's и Sotheby's, меньше доли картин всех остальных художников в топ-100, проданных всеми аукционными домами. Будь внимателен, беря отдельные выражения в скобки. Напечатай результат на экране."
      ]
    },
    {
      "cell_type": "code",
      "metadata": {
        "id": "b1kXdOJj-JQG"
      },
      "source": [
        "# напиши выражение\n",
        "\n",
        "print(...)"
      ],
      "execution_count": null,
      "outputs": []
    },
    {
      "cell_type": "markdown",
      "metadata": {
        "id": "IKYx9DC035xi"
      },
      "source": [
        "<h1><strong><font color=\"#FF732B\">Сохраняем нужные значения</font></strong></h1>"
      ]
    },
    {
      "cell_type": "markdown",
      "metadata": {
        "id": "6E3NFPS1UczV"
      },
      "source": [
        "<p><img src=\"https://u.foxford.ngcdn.ru/uploads/inner_file/file/92618/6var.png\"></p>"
      ]
    },
    {
      "cell_type": "markdown",
      "metadata": {
        "id": "pLlbYrl4CWKS"
      },
      "source": [
        "<h3><strong><font color=\"#809BFF\">Задача №7</font></strong></h3>\n",
        "\n",
        "Узнай продолжительность жизни каждого художника и сохрани соответствующие значения в переменные. Напечатай результат для одного из художников."
      ]
    },
    {
      "cell_type": "code",
      "metadata": {
        "id": "fQKe58hgCd_v"
      },
      "source": [
        "# подставь нужное значение вместо многоточия\n",
        "picasso_lifetime = ...\n",
        "\n",
        "# объяви переменную для Винсента Ван Гога и сохраните в нее значение\n",
        "...\n",
        "\n",
        "# переменная и значение для Энди Уорхола\n",
        "...\n",
        "\n",
        "# напечатай результат для Винсента Ван Гога\n",
        "print(...)"
      ],
      "execution_count": null,
      "outputs": []
    },
    {
      "cell_type": "markdown",
      "metadata": {
        "id": "x7R_wNfNQOh9"
      },
      "source": [
        "<p><img src=\"https://u.foxford.ngcdn.ru/uploads/inner_file/file/92620/7repo.png\"></p>"
      ]
    },
    {
      "cell_type": "markdown",
      "metadata": {
        "id": "Pef7us8g0PhV"
      },
      "source": [
        "<h3><strong><font color=\"#809BFF\">Задача №8</font></strong></h3>\n",
        "\n",
        "Посчитай, сколько картин каждого художника находится в списке топ-100. Общее количество картин всех 3-х художников — также сохрани в отдельную переменную и напечатай это значение на экране."
      ]
    },
    {
      "cell_type": "code",
      "metadata": {
        "id": "UsK4SsCAAuXY"
      },
      "source": [
        "# подставь нужное значение вместо троеточия\n",
        "picasso_top_100_amount = ...\n",
        "\n",
        "# объяви переменную для Винсента Ван Гога и сохрани в нее значение\n",
        "...\n",
        "\n",
        "# переменная и значение для Энди Уорхола\n",
        "...\n",
        "\n",
        "# общее количество картин\n",
        "total_top_100_amount = ...\n",
        "\n",
        "# напечатай общее количество картин\n",
        "print(...)"
      ],
      "execution_count": null,
      "outputs": []
    },
    {
      "cell_type": "markdown",
      "metadata": {
        "id": "D8U3FVv2ykl4"
      },
      "source": [
        "<h3><strong><font color=\"#809BFF\">Задача №9</font></strong></h3>\n",
        "\n",
        "Для каждого художника вычисли разницу между самой поздней и самой ранней картиной в списке топ-100. На экране напечатай результат для Пабло Пикассо. Подумай над получившимися значениями — о чем они могут говорить?"
      ]
    },
    {
      "cell_type": "code",
      "metadata": {
        "id": "rHOT8Z5nCNFu"
      },
      "source": [
        "# подставь нужное значение вместо многоточия\n",
        "picasso_creation_range = ...\n",
        "\n",
        "# переменная и значение для Винсента Ван Гога\n",
        "...\n",
        "\n",
        "# переменная и значение для Энди Уорхола\n",
        "...\n",
        "\n",
        "# напечатай результат для Пабло Пикассо\n",
        "print(...)"
      ],
      "execution_count": null,
      "outputs": []
    },
    {
      "cell_type": "markdown",
      "metadata": {
        "id": "U8i0TnCdz5GI"
      },
      "source": [
        "<h3><strong><font color=\"#809BFF\">Задача №10</font></strong></h3>\n",
        "\n",
        "Вычисли долю картин каждого художника среди общего количества. Все значения, которые нужны для решения задачи, уже сохранены в свои переменные — используй их. На экране напечатай результат для Винсента Ван Гога."
      ]
    },
    {
      "cell_type": "code",
      "metadata": {
        "id": "tsivhl_GDvst"
      },
      "source": [
        "# доля Пабло Пикассо\n",
        "picasso_share = ...\n",
        "\n",
        "# доля Винсента Ван Гога\n",
        "...\n",
        "\n",
        "# доля Энди Уорхола\n",
        "...\n",
        "\n",
        "# напечатай долю Винсента Ван Гога\n",
        "print(...)"
      ],
      "execution_count": null,
      "outputs": []
    },
    {
      "cell_type": "markdown",
      "metadata": {
        "id": "Mv3LcxDUAWtP"
      },
      "source": [
        "<h1><strong><font color=\"#FF732B\">Смотрим на промежуточный результат</font></strong></h1>"
      ]
    },
    {
      "cell_type": "markdown",
      "metadata": {
        "id": "dH-5EatdAZR8"
      },
      "source": [
        "<p><img src=\"https://u.foxford.ngcdn.ru/uploads/inner_file/file/92622/8repo.png\"></p>"
      ]
    },
    {
      "cell_type": "markdown",
      "metadata": {
        "id": "i7KImah_EBVy"
      },
      "source": [
        "<h1><strong><font color=\"#FC4262\">Домашняя работа</font></strong></h1>"
      ]
    },
    {
      "cell_type": "markdown",
      "metadata": {
        "id": "34kQNkgHEDsw"
      },
      "source": [
        "<h3><strong><font color=\"#809BFF\">Задача №11</font></strong></h3>\n",
        "\n",
        "Вычисли, насколько доля картин Пабло Пикассо и Энди Уорхола в топ-100 больше доли картин Винсента Ван Гога и выведи результат на экран."
      ]
    },
    {
      "cell_type": "code",
      "metadata": {
        "id": "1rvkwu2HEHkG"
      },
      "source": [
        "# напиши выражение\n",
        "print(...)"
      ],
      "execution_count": null,
      "outputs": []
    },
    {
      "cell_type": "markdown",
      "metadata": {
        "id": "dFSSaKqIS8-R"
      },
      "source": [
        "<div>\n",
        "  <details>\n",
        "    <summary>Подсказка 1/1</summary>\n",
        "    <p>Найди сумму долей Пабло Пикассо и Энди Уорхола и вычти из нее долю Винсента Ван Гога.</p>\n",
        "  </details>\n",
        "</div>\n",
        "\n",
        "<div>\n",
        "  <details>\n",
        "    <summary>Результат</summary>\n",
        "    <p>0.13</p>\n",
        "  </details>\n",
        "</div>"
      ]
    },
    {
      "cell_type": "markdown",
      "metadata": {
        "id": "qFPxh3GETc_d"
      },
      "source": [
        "<h3><strong><font color=\"#809BFF\">Задача №12</font></strong></h3>\n",
        "\n",
        "Обозначим картины с низкой стоимостью как те, цена которых менее 75 млн $. Посчитай среднюю стоимость таких картин и напечатай результат на экране."
      ]
    },
    {
      "cell_type": "code",
      "metadata": {
        "id": "noI5ayGZTkNX"
      },
      "source": [
        "# кол-во картин\n",
        "least_price_amount = ...\n",
        "\n",
        "# общая стоимость\n",
        "...\n",
        "\n",
        "# средняя стоимость\n",
        "...\n",
        "\n",
        "# напечатай результат\n",
        "..."
      ],
      "execution_count": null,
      "outputs": []
    },
    {
      "cell_type": "markdown",
      "metadata": {
        "id": "scgD_umFTsXt"
      },
      "source": [
        "<div>\n",
        "  <details>\n",
        "\t  <summary>Подсказка 1/1</summary>\n",
        "    <p>Среднее значение — это число, равное сумме всех чисел множества, делённое на их количество.</p>\n",
        "  </details>\n",
        "</div>\n",
        "\n",
        "<div>\n",
        "  <details>\n",
        "\t  <summary>Результат</summary>\n",
        "    <p>72.36</p>\n",
        "  </details>\n",
        "</div>"
      ]
    },
    {
      "cell_type": "markdown",
      "metadata": {
        "id": "pMp6pkNFW2pO"
      },
      "source": [
        "<h3><strong><font color=\"#809BFF\">Задача №13</font></strong></h3>\n",
        "\n",
        "Обозначим картины с высокой стоимостью как те, цена которых более 124 млн $. Посчитай среднюю стоимость таких картин и напечатай результат на экране."
      ]
    },
    {
      "cell_type": "code",
      "metadata": {
        "id": "f5821_b5W9nj"
      },
      "source": [
        "# напиши код"
      ],
      "execution_count": null,
      "outputs": []
    },
    {
      "cell_type": "markdown",
      "metadata": {
        "id": "PpnZMckbXBDA"
      },
      "source": [
        "<div>\n",
        "  <details>\n",
        "\t  <summary>Подсказка 1/1</summary>\n",
        "    <p>Среднее значение — это число, равное сумме всех чисел множества, делённое на их количество.</p>\n",
        "  </details>\n",
        "</div>\n",
        "\n",
        "<div>\n",
        "  <details>\n",
        "\t  <summary>Результат</summary>\n",
        "    <p>158.16</p>\n",
        "  </details>\n",
        "</div>"
      ]
    }
  ]
}